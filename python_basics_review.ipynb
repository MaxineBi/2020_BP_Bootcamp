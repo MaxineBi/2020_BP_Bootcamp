{
 "cells": [
  {
   "cell_type": "code",
   "execution_count": null,
   "metadata": {},
   "outputs": [],
   "source": [
    "#!/Users/castephens/anaconda3/envs/mda/bin/python\n",
    "\n",
    "################################################################\n",
    "# Author: Christina A. Stephens, UCSF, Biophysics, Grabe Lab\n",
    "# EST: 20200824\n",
    "# UPD: 20200831\n",
    "# Python 3.6.9\n",
    "# Purpose: This review was originally intended for \n",
    "#          incoming biophysics gradguate students with little \n",
    "#          to no prior experience with Python.\n",
    "################################################################"
   ]
  },
  {
   "cell_type": "markdown",
   "metadata": {},
   "source": [
    "# Get Familiar with Jupyter Notebook\n",
    "\n",
    "### a. Create a cell using the '+' button above\n",
    "### b. To cut a cell use the button with the scissors\n",
    "#### Click the 'Edit' button for more cell manipulations\n",
    "### c. To execute a cell press the 'Run' button\n",
    "#### Click on the 'Cell' button to see more run options\n",
    "### d. To interupt a cell mid-execution, press the stop button (black square)\n",
    "### f. To quickly save your progress press the press the button with the  floppy disk. Click on the 'File' button to see save options. You will also find the option to download the notebook as a script for a specific language. \n",
    "### g. Click on the 'Kernel' button of options to restart the kernel and clear the output of all cells or to restart and run all cells. If you loose connection you can try reconnecting and restarting the kernel\n",
    "### h. To change the name of the notebook click on the current title and follow the prompts \n",
    "### i. To exit the notebook don't close the browser tab! Go to file and click 'close and halt' this will stop the kernel. \n",
    "\n",
    "### Cheat Sheet of Jupyter Commands:\n",
    "* shift + enter run cell, select below \n",
    "* ctrl (or option on Mac) + enter run cell\n",
    "* quick Edit shortcuts when in command mode i.e. cell has a blue border\n",
    "    * A insert cell above\n",
    "    * B insert cell below\n",
    "    * C copy cell\n",
    "    * V paste cell\n",
    "    * DD delete cell\n",
    "    * press `m` to set the cell for Markdown, `y` to bring it back in execute mode\n",
    "    * press `r` for convert a cell to raw (non executable, non rendered) input \n",
    "    \n",
    "\n",
    "### command + z to redo within cells. "
   ]
  },
  {
   "cell_type": "markdown",
   "metadata": {},
   "source": [
    "### Run the following cell and try to stop it. You can tell the cell is still running if there's an hour glass image on the brower tab."
   ]
  },
  {
   "cell_type": "code",
   "execution_count": null,
   "metadata": {},
   "outputs": [],
   "source": [
    "while True:\n",
    "    print(\"Please make it sttttooooooooppppp!\")"
   ]
  },
  {
   "cell_type": "markdown",
   "metadata": {},
   "source": [
    "# Setting-Up and Commenting\n",
    "\n",
    "## At the tippy-top:\n",
    "This is not necessary, but you may want to add a 'shebang' at the top\n",
    "of the script that tells the shell which program to use to run the script. In this case we want to run this using python3. The shebang allows the script to run as a stand-alone executable which means you can do this:\\\n",
    "./scriptname.py \n",
    "\n",
    "instead of this:\\\n",
    "python scriptname.py \n",
    "\n",
    "You may need to change executable permisions for the file: \\\n",
    "chmod +x scriptname.py \n",
    "\n",
    "## Spaces vs. Tabs\n",
    "Indentation is a necessary part of Python. Whether you like spaces or tabs, just make sure you use one or the other consistently in a single script, Python 3 doesn't allow mixing the two. \n",
    "\n",
    "## Commenting at the top:\n",
    "It is *always* wise to comment your code. The top of your scripts should \n",
    "usually include information about who wrote it, when they wrote it and what \n",
    "the heck it's intended to do. \n",
    "\n",
    "## Commenting throughout:\n",
    "Comments thoughout the script should be used to clarify the purpose/content of \n",
    "key variables, functions, classes or series of lines. Never assume your code is as\n",
    "obvious as you think it is. Comments will not only help someone else understand your \n",
    "code, but also the you from 6 months in the future. Try to place your comments in way that's\n",
    "easy to read and understand which lines they refer to. Giving variables meaningful/descriptive names is good practice to clarify their purpose. \n",
    "\n",
    "## How to comment:\n",
    "There are two ways to make comments in python scripts. However you comment, try to make it clear. I cannot emphasize this enough. \n"
   ]
  },
  {
   "cell_type": "code",
   "execution_count": null,
   "metadata": {},
   "outputs": [],
   "source": [
    "#   (1) Using single or any number of hashes/number signs/pound symbols '#' before the text. This is best used for\n",
    "#       in-line commenting\n",
    "\n",
    "\"\"\" \n",
    "    (2) Using these triple quotes. This allows you to leave text\n",
    "        over multiple lines withput having to type a mark at the beginning of\n",
    "        each line. This might be best for longer sections of text. This is best following \n",
    "        function or class definition statements, to explain their purpose, arguments, and returned objects.\n",
    "\"\"\""
   ]
  },
  {
   "cell_type": "markdown",
   "metadata": {},
   "source": [
    "# Markdown\n",
    "As you read these very words you are in fact reading text that was generated using the markup language called Markdown. Markup languages are 'lightweight' languages that are straightforward to write and read and often used for text formatting. HTML is a common example and will also be interpreted in a jupyter notebook markdown cell.\n",
    "\n",
    "Jupyter notebook allows you to specify whether a cell is in code or markdown mode (in the menu bar -> Cell -> Cell Type).\n",
    "\n",
    "One can use Markdown to specify headers, subheaders, italics, bold, links, lists, indentation, tables, and line breaks\n",
    "\n",
    "# Header\n",
    "## Subheader\n",
    "\n",
    "[links](https://sites.google.com/view/2020bootcamp/module-information/structural-biology)\n",
    "\n",
    "* *italic*\n",
    "\n",
    "* **bold**\n",
    "\n",
    "* ***bold and italic***\n",
    "\n",
    "~~striketrhough~~ with ~~\n",
    "\n",
    "make a list\n",
    "  * sublist\n",
    "  * mmm\n",
    "  * e.g.\n",
    "  * do\n",
    "      * whatever\n",
    "         1. you \n",
    "         2. want\n",
    "\n",
    "make a quote block:\n",
    "\n",
    "> \"Fourscore and seven years ago...\"\n",
    "\n",
    "You can insert inline code and math expressions like this: `a = b + c`, or you can insert a *code block*:\n",
    "\n",
    "```\n",
    "def say_hello():\n",
    "    return(\"hello\")\n",
    "print(say_hello)\n",
    "```\n",
    "\n",
    "Make a table:\n",
    "\n",
    "| Id | items    | prices|\n",
    "|--- |----------| ------|\n",
    "| 01 | time     |\\$100M |\n",
    "| 02 | effort   |  \\$60 |\n",
    "| 03 | tears    |   \\$0 |\n",
    "\n",
    "\n",
    "---\n",
    "\n",
    "after the line break"
   ]
  },
  {
   "cell_type": "markdown",
   "metadata": {},
   "source": [
    "# LaTex\n",
    "Another markup language, LaTex, can be used to write mathematical expressions. \n",
    "\n",
    "You can have both in-line formulas, e.g. $a + \\sum_i(b_i)$, and equation blocks:\n",
    "\n",
    "$$\n",
    "e^{i \\pi} + 1 = 0 \\\\\n",
    "\\sin(-\\alpha)=-\\sin(\\alpha)\n",
    "$$\n",
    "\n",
    "\n",
    "fractions:\n",
    "$$\\frac{1000}{4}=250$$\n",
    "\n",
    "derivatives: \n",
    "$$f'(x)$$ \n",
    "$$\\frac{\\partial f}{\\partial x}$$\n",
    "\n",
    "intergrals: \n",
    "$$\\int_{a}^b f(x)dx$$ \n",
    "$$\\int_{a}^b\\int_{c}^d f(x,y)\\,dxdy$$\n",
    "\n",
    "Greek leters:\n",
    "$${\\lambda},{\\alpha},{\\beta}$$\n",
    "\n",
    "Special symbols: \n",
    "$$\\langle \\vec{u},\\vec{v}\\rangle$$\n",
    "\n",
    "You can see the full suite of Greek letters and symbols at the bottom of this [blog](https://towardsdatascience.com/write-markdown-latex-in-the-jupyter-notebook-10985edb91fd)\n"
   ]
  },
  {
   "cell_type": "markdown",
   "metadata": {},
   "source": [
    "# Basic Organization of Python\n",
    "\n",
    "Python is called an *object-oriented language*. This means that Python is based around the idea of organizing items, so called objects, in neat packages (i.e. classes) containing their specific attributes and functions. Objects can also inherit attributes and functions from 'higher' class objects. But we'll get to that a bit later.\n",
    "\n",
    "Python also has a set of built-in data-types which are essentially ways to store data/objects. Each data-type has a set of functions that can be used to manipulate the data they contain. "
   ]
  },
  {
   "cell_type": "markdown",
   "metadata": {},
   "source": [
    "## Variables, Data Types, and Data Structures\n",
    "In order to keep track of objects you assign variables to them (*instantiation*). Meaning when you see: \n",
    "\n",
    "```\n",
    "var_name = Object()\n",
    "```\n",
    "\n",
    "the variable `var_name` is **not** the object, but it actually stores where that object is located in memory. It's best practice to design variable names that reflect the content or purpose of the object it points to.\n",
    "\n",
    "Multiple variables can actually point to the same object meaning if you set one variable equal to another, Python does not make a copy of the object, the variables just point to the same object. However, there are certain operations that return a new object.\n",
    "\n",
    "Not all objects are the same, but they can be of the same type or structure (called data types or structures). Python objects can be organized into standard data types and structures which can be categorized as either 'mutable' or 'immutable'.\n",
    "\n",
    "**All** manipulations of **immutable** objects create new objects \\\n",
    "**Some** manipulations of **mutable** objects create new objects\n",
    "\n",
    "For more examples see [this page](https://www.practicaldatascience.org/html/vars_v_objects.html)"
   ]
  },
  {
   "cell_type": "markdown",
   "metadata": {},
   "source": [
    "### Immutable Data Types and Structure"
   ]
  },
  {
   "cell_type": "code",
   "execution_count": null,
   "metadata": {
    "scrolled": false
   },
   "outputs": [],
   "source": [
    "# You can determine what type of data an object is by using the \n",
    "# built-in command 'type()'\n",
    "\n",
    "# INTS/DECIMALS\n",
    "a = 10\n",
    "other_a = a\n",
    "\n",
    "print(id(a), id(other_a)) # use the 'id()' function to return the memory address referenced by the variable \n",
    "print(type(a))\n",
    "b = -11\n",
    "c = a+b # you can perform basic math operations, this will return a new object \n",
    "print(\"value of c: %d\" % (c))\n",
    "a += 1 # lets try to change the int object a is pointing to, what do you think happends\n",
    "       # to 'other_a'?\n",
    "print(\"value of other_a: \"+str(other_a)) \n",
    "print(\"we can also confirm this by checking the reference id of each variable:\")\n",
    "print(id(a),id(other_a))\n",
    "\n",
    "\n",
    "# Before running the script try to figure out what the new value of c is."
   ]
  },
  {
   "cell_type": "code",
   "execution_count": null,
   "metadata": {},
   "outputs": [],
   "source": [
    "# The same property applies to the following data types:\n",
    "\n",
    "# FLOATS - indicated by the decimal point\n",
    "a = 50.45\n",
    "a = 5045e-2 #an alernative floating point representation\n",
    "print(\"this is a: %.2f\" % a)\n",
    "print(\"a is of \"+ str(type(a))) \n"
   ]
  },
  {
   "cell_type": "code",
   "execution_count": null,
   "metadata": {},
   "outputs": [],
   "source": [
    "# STRINGS\n",
    "cat_name=\"Henry\"\n",
    "dog_name=\"Lil' Bit\"\n",
    "catdog_name=cat_name+\"-\"+dog_name # again this returns a new string object\n",
    "cat_name+=\" V\"\n",
    "print(catdog_name)\n",
    "print(\"catdog_name is of type: \"+str(type(catdog_name)))\n",
    "print(\"this is the 5th letter: \"+cat_name[4]) # you can also index strings\n"
   ]
  },
  {
   "cell_type": "code",
   "execution_count": null,
   "metadata": {},
   "outputs": [],
   "source": [
    "# one can interconvert floats, ints and string using the built in functions\n",
    "# int(), float(), and str()\n",
    "\n",
    "# complex numbers - create using the built-in 'complex()' function\n",
    "x = 6\n",
    "y = 3\n",
    "z = complex(x,y)\n",
    "print(\"this is z: \"+ str(z))\n",
    "print(\"z is of \"+str(type(z)))\n"
   ]
  },
  {
   "cell_type": "code",
   "execution_count": null,
   "metadata": {},
   "outputs": [],
   "source": [
    "# booleans\n",
    "a=True \n",
    "b=False\n",
    "print(\"a is of \"+ str(type(a)))\n",
    "if a:\n",
    "    print(\"a was True\")\n"
   ]
  },
  {
   "cell_type": "code",
   "execution_count": null,
   "metadata": {},
   "outputs": [],
   "source": [
    "# tuples - a collection of python objects, including tuples seperated by commas\n",
    "#          tuples can contain multiple data types\n",
    "#          Technically tuples are considered data structures\n",
    "random_things= 23, \"fifteen\", 4.5, \"force\"\n",
    "print(\"random_things is of \"+ str(type(random_things)))\n",
    "b=random_things\n",
    "print(b)\n",
    "random_things += (\"puppies\",) # you can only concatenate tuples to tuples\n",
    "print(random_things)\n",
    "print(b)\n",
    "random_things[3] = \"new_thing\" # you cannot change items in a tuple, this \n",
    "                               # should raise an error"
   ]
  },
  {
   "cell_type": "markdown",
   "metadata": {},
   "source": [
    "### Mutable Data Structures \n",
    "#### one can think of data structures as storage for collections of objects.  "
   ]
  },
  {
   "cell_type": "code",
   "execution_count": null,
   "metadata": {},
   "outputs": [],
   "source": [
    "# LISTS - similar to tuples but you can change the items contained. \n",
    "#        When creating a list, denote so by using square brackets.\n",
    "mylist=[]\n",
    "otherlist=mylist\n",
    "print(type(mylist))\n",
    "mylist.append(\"socks\") # add items to my list\n",
    "mylist.append(\"rocks\") # items are always added at the back of the list\n",
    "                       # using append\n",
    "mylist.insert(1,22.6)  # one can insert new items at a specified index\n",
    "                       # keep in mind the indices start at 0.\n",
    "print(mylist)\n",
    "mylist+=[\"fish\",[\"Larry\",\"Bob\"],\"rocks\"] # you can concatenate two lists\n",
    "print(mylist)\n",
    "mylist.pop(3) # remove an item at a specified index\n",
    "print(mylist)\n",
    "mylist=mylist[0:2] # you can select a range of indices (slicing)\n",
    "print(mylist)\n",
    "print(otherlist) # now what will otherlist look like? Remember when I said \n",
    "                 # some manipulations create new objects for mutable types? \n",
    "                 # slicing actually returns a new list object"
   ]
  },
  {
   "cell_type": "code",
   "execution_count": null,
   "metadata": {},
   "outputs": [],
   "source": [
    "# SETS - sets are similar to list, but they only contain unordered unique items\n",
    "new_set=set([1,4,\"seven\",10.0,1])\n",
    "print(new_set)\n",
    "new_set={3,5,7,\"four\"} # sets are denoted using comma separated items in \n",
    "                       # curly brackets\n",
    "new_set=set()   # or with the set function to distinguish from\n",
    "                # empty dictionaries"
   ]
  },
  {
   "cell_type": "code",
   "execution_count": null,
   "metadata": {},
   "outputs": [],
   "source": [
    "# DICTIONARIES - are organized in a system of values and keys\n",
    "mydict = {} # instantiate an empty dictionary\n",
    "mydict = {\"socks\":15,\n",
    "    63.6:['whatever','monkeys']} # you can populate a dictionary at the start\n",
    "                                                  \n",
    "mydict['key'] = \"secret\" # and/or add new keys and values \n",
    "print(mydict['key'])\n",
    "print(mydict.items()) # returns all keys and values, in Python 3 they will be ordered by insertion order\n",
    "mydict['socks']+=30  # you can change the values\n",
    "print(mydict['socks'])"
   ]
  },
  {
   "cell_type": "markdown",
   "metadata": {},
   "source": [
    "### Other types of mutable objects include user-defined objects, NumPy arrays and pandas objects. We'll discuss NumPy in this tutorial.\n"
   ]
  },
  {
   "cell_type": "markdown",
   "metadata": {},
   "source": [
    "## Compound Statements\n",
    "Compound statements control the execution of other statements and typically span mutliple lines. They are denoted by a colon and if spanning more than one line an indentation.\n"
   ]
  },
  {
   "cell_type": "markdown",
   "metadata": {},
   "source": [
    "### If/else statements\n",
    "statements are only executed under an if statement if the specified conditions are true. You can provide multiple options usign 'elif' or else."
   ]
  },
  {
   "cell_type": "code",
   "execution_count": null,
   "metadata": {},
   "outputs": [],
   "source": [
    "my_list=[\"puppies\",\"kittens\",\"hat\",\"babies\",\"shirt\",\"shoes\"]\n",
    "\n",
    "if \"Puppies\" not in my_list:\n",
    "    print(\"this list does not contain the word 'Puppies'. Adding it now.\")\n",
    "    my_list.append(\"Puppies\")\n",
    "elif \"socks\" not in my_list: \n",
    "    print(\"this list does not contain the word 'socks'. Adding it now.\")\n",
    "    my_list.append(\"socks\")\n",
    "else:\n",
    "    print(\"this list contains both the words 'Puppies' and 'socks'\")\n",
    "print(my_list)    "
   ]
  },
  {
   "cell_type": "code",
   "execution_count": null,
   "metadata": {},
   "outputs": [],
   "source": [
    "# you can also 'nest' compound statements in one another\n",
    "if \"Puppies\" not in my_list:\n",
    "    print(\"this list does not contain the word 'Puppies'. Adding it now.\")\n",
    "    my_list.append(\"Puppies\")\n",
    "    if \"socks\" not in my_list: \n",
    "        print(\"this list does not contain the word 'socks'. Adding it now.\")\n",
    "        my_list.append(\"socks\")\n",
    "    else:\n",
    "        print(\"it already has 'socks'\")\n",
    "elif \"socks\" not in my_list: \n",
    "    print(\"this list does not contain the word 'socks'. Adding it now.\")\n",
    "    my_list.append(\"socks\")\n",
    "    if \"Puppies\" not in my_list:\n",
    "        print(\"this list does not contain the word 'Puppies'. Adding it now.\")\n",
    "        my_list.append(\"Puppies\")\n",
    "    else:\n",
    "        print(\"it alread has 'Puppies'\")\n",
    "else:\n",
    "    print(\"this list contains both the words 'Puppies' and 'socks'\")\n",
    "print(my_list)   "
   ]
  },
  {
   "cell_type": "code",
   "execution_count": null,
   "metadata": {},
   "outputs": [],
   "source": [
    "# you can extend statements using 'and/or'\n",
    "\n",
    "my_list.remove('socks')\n",
    "if \"Puppies\" and \"socks\" in my_list:\n",
    "    print(\"this list contains both the words 'Puppies' and 'socks'.\")\n",
    "else:\n",
    "    print(\"this list contains either the word 'Puppies' or 'socks' or neither\")"
   ]
  },
  {
   "cell_type": "code",
   "execution_count": null,
   "metadata": {
    "scrolled": true
   },
   "outputs": [],
   "source": [
    "# you can of course also compare numerical values. The only requirement is \n",
    "# that your comparison always results in a single True or False\n",
    "\n",
    "value=7.0\n",
    "if value >= 10.0:\n",
    "    print(\"that's crazy!\")\n",
    "else:\n",
    "    print(\"yeah, makes sense.\")\n",
    "\n",
    "# You could also squish all of that into one line:\n",
    "print(\"that's crazy!\") if value >= 10.0 else print(\"yeah, makes sense.\")\n"
   ]
  },
  {
   "cell_type": "markdown",
   "metadata": {},
   "source": [
    "### For Loops\n",
    "for loops allow you to iterate over a collection of items. Those can be ranges of numbers or items in a data structure like a list or array."
   ]
  },
  {
   "cell_type": "code",
   "execution_count": null,
   "metadata": {},
   "outputs": [],
   "source": [
    "# here 'word' becomes the variable pointing to the item in the list\n",
    "# that gets updated as the for loop iterates over it\n",
    "for word in my_list: \n",
    "    print(word)"
   ]
  },
  {
   "cell_type": "code",
   "execution_count": null,
   "metadata": {},
   "outputs": [],
   "source": [
    "# we can use the built-in function 'enumerate' to keep track of the \n",
    "# current index value of the list \n",
    "for indx,word in enumerate(my_list[0:6]): \n",
    "    print(indx,word)\n",
    "    if word == 'babies':\n",
    "        print(\"awwwww\")\n",
    "    "
   ]
  },
  {
   "cell_type": "code",
   "execution_count": null,
   "metadata": {},
   "outputs": [],
   "source": [
    "# we can use the 'range(start,stop,skip)' function to return an iterator of\n",
    "# integers.\n",
    "for i in range(1,10,3):\n",
    "    print(i)"
   ]
  },
  {
   "cell_type": "code",
   "execution_count": null,
   "metadata": {},
   "outputs": [],
   "source": [
    "# you can iterate over dictionaries by key:\n",
    "\n",
    "for key in mydict:\n",
    "    print(\"key: \", key)\n",
    "    print(\"value: \", mydict[key])\n",
    "\n",
    "print()\n",
    "# or directly on both keys and values\n",
    "for key,value in mydict.items():\n",
    "    print(\"key: \", key)\n",
    "    print(\"value: \", value)\n",
    "\n"
   ]
  },
  {
   "cell_type": "markdown",
   "metadata": {},
   "source": [
    "### While Loops\n",
    "While statements will continue to execute all expressions under it\n",
    "while its guiding condition is still True. Remember the example at the beginning? Whether or not the condition is still True is checked at the beginning of each iteration"
   ]
  },
  {
   "cell_type": "code",
   "execution_count": null,
   "metadata": {},
   "outputs": [],
   "source": [
    "values=list(range(0,10))\n",
    "while sum(values) < 10000:\n",
    "    values+=values\n",
    "    print(sum(values))\n",
    "    print(\"I'm still printing\")\n",
    "    print()\n",
    "\n",
    "print()\n",
    "print(\"The sum of my list 'values' should be >= 10000\")"
   ]
  },
  {
   "cell_type": "markdown",
   "metadata": {},
   "source": [
    "### Try/Except Statements\n",
    "`Try/except` statements are great ways to 'catch' errors or exceptions that may be generated when your code is run. You can anticipate specific errors and prepare a statement to better indicate what went wrong and where to the user, perhaps better than the traceback can. `try` statements handle the exceptions and allow the code to keep running despite encountering this error. "
   ]
  },
  {
   "cell_type": "code",
   "execution_count": null,
   "metadata": {},
   "outputs": [],
   "source": [
    "# see the difference between trying to print the object associated with\n",
    "# this variable inside and outside of the try statement.\n",
    "\n",
    "try:\n",
    "    print(non_existant_var)\n",
    "except:\n",
    "    print(\"that variable does not exist\")\n",
    "    \n",
    "print(\"just keep on going\")\n",
    "\n",
    "print(non_existant_var)\n",
    "\n",
    "print(\"my code stopped running\")"
   ]
  },
  {
   "cell_type": "code",
   "execution_count": null,
   "metadata": {},
   "outputs": [],
   "source": [
    "# in the above example we got a \"NameError\". We can write that into our\n",
    "# except statement explicitly:\n",
    "try:\n",
    "    for i in range(10,12,0.1):\n",
    "        print(i)\n",
    "except NameError:\n",
    "    print(\"that variable does not exist\")\n",
    "    \n",
    "# in this case, we actually didn't throw a 'NameError' but rather a\n",
    "# 'TypeError'\n",
    "\n"
   ]
  },
  {
   "cell_type": "code",
   "execution_count": null,
   "metadata": {},
   "outputs": [],
   "source": [
    "# We can account for different types of error by giving another except\n",
    "# line.\n",
    "try:\n",
    "    for i in range(10,12,0.1):\n",
    "        print(i)\n",
    "except NameError:\n",
    "    print(\"that variable does not exist\")\n",
    "except:\n",
    "    print(\"something else is wrong\")\n",
    "    \n",
    "print(\"we still keep going\")"
   ]
  },
  {
   "cell_type": "code",
   "execution_count": null,
   "metadata": {},
   "outputs": [],
   "source": [
    "# if you are devoloping code you can 'raise' specific errors or an\n",
    "# exception if for example you don't want to except certain inputs\n",
    "name='Bob'\n",
    "if name[0] == 'B':\n",
    "    raise ValueError(\"Sorry, we don't accept anyone with a name starting with 'B'\")"
   ]
  },
  {
   "cell_type": "markdown",
   "metadata": {},
   "source": [
    "### Functions\n",
    "These are user-defined and contain a set of expressions that will only be executed when the function is called. Functions optionally return results of the expressions acting on data fed to the called function. Functions can be defined with positional (mandatory) arguments and optional (keyword) arguments. The latter must be assigned a default value."
   ]
  },
  {
   "cell_type": "code",
   "execution_count": null,
   "metadata": {},
   "outputs": [],
   "source": [
    "# for this example lets make a little random move function\n",
    "import random \n",
    "def move(pos,max_d=5.0): \n",
    "    \"\"\"\n",
    "    this function generate three random values \n",
    "    between 0 and the max_d value, the defualt of which is 5\n",
    "    \"\"\"\n",
    "    dx=random.randrange(0,max_d)\n",
    "    dy=random.randrange(0,max_d)\n",
    "    dz=random.randrange(0,max_d)\n",
    "    # the function then returns a list of of new positions\n",
    "    print(\"this is the set max_d: %f\"% max_d)\n",
    "    return([pos[0]+dx,pos[1]+dy,pos[2]+dz])\n",
    "\n",
    "current=[0,0,0]\n",
    "for m in range(0,10):\n",
    "    current=move(current,10)\n",
    "    print(current)\n",
    "    "
   ]
  },
  {
   "cell_type": "markdown",
   "metadata": {},
   "source": [
    "### Classes\n",
    "At the heart of the Python hierarchical structure are classes. Like a function, classes are executable statements meaning the expressions they contain are only run when called. \n",
    "When defining a class you actually create a new type of object that has its own set of attributes and functions (methods). When instantiating a class object, you actually generate an instance of that class that can then call any functions or methods defined within it. "
   ]
  },
  {
   "cell_type": "code",
   "execution_count": null,
   "metadata": {},
   "outputs": [],
   "source": [
    "class protein:\n",
    "    \"\"\"\n",
    "    These classes contian attribtutes and functions\n",
    "    related to proteins\n",
    "    \"\"\"\n",
    "    # this is an init method which will be automatically\n",
    "    # invoked for a new class instance and\n",
    "    # defines values unique to each instance\n",
    "    def __init__(self,name,pdb_id,typ):\n",
    "        self.name = name\n",
    "        self.pdb_id = pdb_id\n",
    "        self.typ = typ\n",
    "     \n",
    "    def get_name(self):\n",
    "        print(\"the name of this protein is: \"+self.name)\n",
    "        \n",
    "my_prot=protein(\"nhtmem16\",\"4WIS\",\"membrane\") # create a class instance\n",
    "my_prot.get_name() # call a function contained within the class instance\n",
    "\n",
    "    "
   ]
  },
  {
   "cell_type": "code",
   "execution_count": null,
   "metadata": {},
   "outputs": [],
   "source": [
    "# Another cool property of classes is inheritance by which a child class can inherit\n",
    "# attributes and methods from a parent class\n",
    "\n",
    "# child classes tend to contain methods and attributes that are unique to \n",
    "# the needs of the class instance that may be more specific than the \n",
    "# parent class. \n",
    "\n",
    "class membrane_protein(protein):\n",
    "    \"\"\"\n",
    "    this child class inherits anything from the parent class 'protein'\n",
    "    it can have its own init function that defines unique values and can \n",
    "    even override specific attributes and methods from the parent class\n",
    "    \"\"\"\n",
    "    def __init__(self,name,pdb_id,typ,mem_type):     \n",
    "        super().__init__(name,pdb_id,typ) # this makes sure the child class\n",
    "                                          # inherits all the methods and properties\n",
    "                                          # of the parent\n",
    "        self.memtype=mem_type\n",
    "\n",
    "    def which_mem(self):\n",
    "        print(\"this membrane protein is in the: \"+self.memtype+\" membrane\")\n",
    "\n",
    "my_prot=membrane_protein(\"nhtmem16\",\"4WIS\",\"membrane\",\"plasma\") # create a class instance\n",
    "my_prot.get_name() # I can still use this function from the protein parent class\n",
    "my_prot.which_mem() # and I can use the function unique to the membrane_protein class\n",
    "\n"
   ]
  },
  {
   "cell_type": "markdown",
   "metadata": {},
   "source": [
    "# Importing modules and reading text files\n",
    "Modules are sets of functions collected into files (in Python those files need to end in a .py) that can be imported into another script to use. \n",
    "\n",
    "One can import from a standard library of modules that came with your Python installation, install and import new modules (typically using `pip install module_name`), or design and import their own modules."
   ]
  },
  {
   "cell_type": "code",
   "execution_count": null,
   "metadata": {},
   "outputs": [],
   "source": [
    "# import some python modules to organize the files\n",
    "import sys,os\n",
    "from urllib.request import urlretrieve\n",
    "import numpy as np # you can import module and save them under more convenient names\n",
    "\n",
    "# make a directory to store your structures\n",
    "try:\n",
    "    os.mkdir('structures')\n",
    "except FileExistsError:\n",
    "    print(\"directory '/structures' already exists\")\n",
    "    \n",
    "pdb_name='6LU7' # specify the name of the pdb you want ot download\n",
    "url='https://files.rcsb.org/download/'+pdb_name+'.pdb'\n",
    "path=os.getcwd()+'/structures/'+pdb_name+'.pdb'\n",
    "urlretrieve(url,path) # download the file to the correct folder\n",
    "\n",
    "# you should now have the SARS-CoV-2 main protease structure file downloaded to \n",
    "# your structures folder"
   ]
  },
  {
   "cell_type": "code",
   "execution_count": null,
   "metadata": {
    "scrolled": true
   },
   "outputs": [],
   "source": [
    "# Now we need to read in and store the contents of the file.\n",
    "# We are going to use the built-in 'open()' function in read mode but in two different ways\n",
    "\n",
    "# (1) this will read the file and then store all its contents in a list of strings\n",
    "file=open(path,'r')\n",
    "contents=file.readlines() # this takes up a good amount of memory to store all the information at once\n",
    "print(\"contents is a: \"+str(type(contents)))\n",
    "#for line in contents:\n",
    "#    print(line)\n",
    "\n",
    "# (2) rather than storing the contents at once this method uses what's called a generator (f) which will provide \n",
    "#     a line of the text file only when called.\n",
    "with open(path,'r') as f:\n",
    "    print(\"f is a : \"+str(type(f)))\n",
    "    for line in f:\n",
    "        print(line, end='')\n"
   ]
  },
  {
   "cell_type": "markdown",
   "metadata": {},
   "source": [
    "# Some fun with NumPy\n",
    "NumPy is a useful Python module with a variety fuctions that allows one to store data in single to multidimensional array, perform matrix calculations and write data to output files.\n",
    "\n",
    "NumPy functions go hand-in-hand with vectorization (performing multiple calculations without a loop). The NumPy code has been written in such a way as to perform many calculations very quickly, if the data is feed in the correct format. \n",
    "\n",
    "The main data structure used in NumPy operations are arrays. These arrays can exist in one to however many dimensions. We will just to to up to 3 for now."
   ]
  },
  {
   "cell_type": "code",
   "execution_count": null,
   "metadata": {},
   "outputs": [],
   "source": [
    "import numpy as np # you can import module and save them under more convenient names\n",
    "\n",
    "# the main data structure used in NumPy operations are arrays. These arrays can exist in one to however many\n",
    "# dimensions. We will just to to up to 3 for now.\n",
    "\n",
    "#(1) create a 2D array from a list of list. The key here is that each contained list must be of the same dimension\n",
    "my_list=[list(range(0,4)),list(range(5,9))] \n",
    "print(\"my list:\")\n",
    "print(my_list)\n",
    "print(\"my array:\")\n",
    "my_arr=np.array(my_list)\n",
    "print(my_arr)\n",
    "print(\"the shape of my array:\")\n",
    "print(my_arr.shape) # and we can use the built-in NumPy method 'shape' to return the dimensions of the array"
   ]
  },
  {
   "cell_type": "code",
   "execution_count": null,
   "metadata": {},
   "outputs": [],
   "source": [
    "# (2) You can populate an empty array of a specified shapt with (i) random values, (2) single values/zeros, or\n",
    "#     (3) a sequence of values\n",
    "\n",
    "my_arr = np.random.rand(2,4,5)\n",
    "print(\"random array: \")\n",
    "print(my_arr)\n",
    "\n",
    "my_arr = np.zeros((7,7))\n",
    "print(\"array of zeros: \")\n",
    "print(my_arr)\n",
    "\n",
    "my_arr = np.full((22,6),8)\n",
    "print(\"array of eights: \")\n",
    "print(my_arr)\n",
    "\n",
    "my_arr = np.arange(40,77,2)\n",
    "print(\"my sequence array:\")\n",
    "print(my_arr)\n",
    "print(\"and yes its techincally a \" +str(type(my_arr))+\" object\")"
   ]
  },
  {
   "cell_type": "code",
   "execution_count": null,
   "metadata": {},
   "outputs": [],
   "source": [
    "# and how do we index arrays? Take for example this 3-dimensional array\n",
    "# I like to think of 3D arrays as loaves of bread where the first dimension refers to a slice of the loaf.\n",
    "my_arr = np.random.rand(2,4,5) \n",
    "print(my_arr)\n",
    "print()"
   ]
  },
  {
   "cell_type": "code",
   "execution_count": null,
   "metadata": {},
   "outputs": [],
   "source": [
    "# You can use comma separated indices or ranges of indices\n",
    "print(my_arr[0,3,:]) # this shoud be the fourth row of the first 'slice' of the 3D array \n",
    "print()\n",
    "print(my_arr[:,3,:]) # this should give us the fourth row of both 'slices'\n",
    "print()\n",
    "print(my_arr[:,:,2]) # this should give the third row of each row for each slice."
   ]
  },
  {
   "cell_type": "code",
   "execution_count": null,
   "metadata": {},
   "outputs": [],
   "source": [
    "# is the shape of that last result the one you want?\n",
    "print(\"original shape: \"+str(np.shape(my_arr[:,:,2])))\n",
    "\n",
    "# there's a couple of ways to reshape an array\n",
    "\n",
    "#(1) you can transpose the array for the 'T' method\n",
    "print(\"transposed shape: \"+str(my_arr[:,:,2].T.shape))\n",
    "\n",
    "# (2) you can use the reshape method. The trouble here is that you need specify the shape.\n",
    "print(\"reshaped shape: \"+str(my_arr[:,:,2].reshape(4,2).shape))\n",
    "print(my_arr[:,:,2].reshape(4,2))"
   ]
  },
  {
   "cell_type": "code",
   "execution_count": null,
   "metadata": {},
   "outputs": [],
   "source": [
    "# Most importantly, NumPy arrays are great for math. Built-in NumPy methods can perform a specific calculation\n",
    "# on all specified values\n",
    "\n",
    "arr_A = np.random.rand(5,2) \n",
    "arr_B = np.random.rand(5,2) \n",
    "\n",
    "# SUMS\n",
    "print(\"this the sum of column 0 of arr_A: %0.2f\"%np.sum(arr_A[:,0]))"
   ]
  },
  {
   "cell_type": "code",
   "execution_count": null,
   "metadata": {},
   "outputs": [],
   "source": [
    "# PRODUCTS\n",
    "print(\"these are the products of arr_A col 1 and arr_B col 0:\")\n",
    "print(np.multiply(arr_A[:,1],arr_B[:,0]).reshape(5,1))"
   ]
  },
  {
   "cell_type": "code",
   "execution_count": null,
   "metadata": {},
   "outputs": [],
   "source": [
    "# MATRIX CALCULATIONS - e.g. the cross product\n",
    "print(\"the cross product of (each row of) arr_A and arr_B: \")\n",
    "print(np.cross(arr_A,arr_B))"
   ]
  },
  {
   "cell_type": "code",
   "execution_count": null,
   "metadata": {},
   "outputs": [],
   "source": [
    "# BROADCASTING - when it makes sense, missing dimensions of an array will be automatically constructed \n",
    "#                to complete the operation\n",
    "v = np.array([1, 2, 3])\n",
    "v + 1"
   ]
  },
  {
   "cell_type": "markdown",
   "metadata": {},
   "source": [
    "### see [this](https://numpy.org/doc/1.18/reference/routines.math.html) page for all built-in NumPy math methods."
   ]
  },
  {
   "cell_type": "markdown",
   "metadata": {},
   "source": [
    "### Let's walk through an example of perfoming some analysis on hundreds of lipids, seemingly at once. This data was generated from MD simulations of a membrane protein embedded in a POPC bilayer. The goal of this little analysis is to:\n",
    "* Calculate a lipid normal vector based on the 1st principal component of each tail\n",
    "* Project the lipid head group centers of geometry of all other lipids onto the plane perpendicular to the \n",
    "* lipid normal"
   ]
  },
  {
   "cell_type": "code",
   "execution_count": null,
   "metadata": {},
   "outputs": [],
   "source": [
    "# NumPy also be used to load and store data from files. Let's load the pre-prepared data.\n",
    "\n",
    "pc_hdgrp=np.loadtxt('lipid_headgroup_cog.dat') # center of geometry of lipid head groups\n",
    "tail_A=np.loadtxt('tail_A_pos.dat') # positions of atom centers in lipid tail 1 of the centeral lipid\n",
    "tail_B=np.loadtxt('tail_B_pos.dat') # positions of atom centers in lipid tail 1 of the centeral lipid\n",
    "\n",
    "# calculate the mean of the tail positions. We will center the data around the mean\n",
    "m_A = tail_A.mean(axis=0)\n",
    "m_B = tail_B.mean(axis=0)\n",
    "    \n",
    "# NumPy does not have a built-in PCA method, but does have a singual value decomposition method\n",
    "# we will us that and then extract the direction vector that best describes the variance in the data\n",
    "uuA, ddA, vvA = np.linalg.svd(tail_A - m_A) \n",
    "uuB, ddB, vvB = np.linalg.svd(tail_B - m_B)\n",
    "\n",
    "# vvA[0] and vvB[0] are essentially our first PCs. Now we are going to calcualte the average of those two vectors\n",
    "# which will be our lipid 'normal' vector. You can use the 'norm' method to calculate the magnitude of the average\n",
    "# vector, but it should already be a unit vector.\n",
    "\n",
    "n = (vvA[0] + vvB[0])/2\n",
    "n/=np.linalg.norm(n)\n",
    "n=n.reshape(1,3)\n",
    "d=-np.sum(tail_A[0,:]*n) # the constant used to define the plane perpendicular to our lipid normal but containing \n",
    "                         # the positions of the carbon atom where the two tails split.\n",
    "\n",
    "# Now we want to project all the lipid headgroups onto the plan perpendicular to our lipid normal\n",
    "# I found this information at: https://stackoverflow.com/questions/9605556/how-to-project-a-point-onto-a-plane-in-3d\n",
    "v=np.subtract(pc_hdgrp[:,0:3],tail_A[0,:]) # calculate the vectors between the the normal origin and \n",
    "                                           # the to-be-projected points\n",
    "dist=np.einsum(\"ij,ij->i\",np.tile(n,(pc_hdgrp.shape[0],1)),v[:,0:3]) # vectorized row-wise dot product\n",
    "                                                                     # between those vectors and the normal\n",
    "                                                                     # to get the distance between the point and the \n",
    "                                                                     # the plane along the normal\n",
    "c=np.multiply(dist.reshape(pc_hdgrp.shape[0],1),n)\n",
    "p_pnts=np.subtract(pc_hdgrp,c)\n",
    "\n",
    "print(\"There should be all the points projected onto the plane define by our central lipid \\\n",
    "and it's normal:\")\n",
    "print(p_pnts)"
   ]
  },
  {
   "cell_type": "markdown",
   "metadata": {},
   "source": [
    "# Matplotlib\n",
    "A Python built-in library of methods for visualizing data. Let's demonstrate the utlilty of Matplotlib and Jupyter notebook by visualizing some of the data we just generated. "
   ]
  },
  {
   "cell_type": "code",
   "execution_count": null,
   "metadata": {},
   "outputs": [],
   "source": [
    "# (1) Let's start with just visualizing the 2D projection of all our coordinates in a scatter plot\n",
    "\n",
    "# this an IPython 'magic function' and allows plot to appear below the code that made it and\n",
    "# be stored in the notebook\n",
    "%matplotlib inline  \n",
    "import matplotlib.pyplot as plt # import the matplotlib pyplot library\n",
    "\n",
    "\n",
    "plt.rcParams['figure.figsize'] = [20, 10] # adjust the size of the figure\n",
    "fig,(ax1,ax2) = plt.subplots(2) # the top level container of all plot elements\n",
    "ax1.scatter(tail_A[:,0],tail_A[:,1],c='red',alpha=0.5,label='tail_A') # you can play with the transparency (alpha)\n",
    "ax1.scatter(tail_B[:,0],tail_B[:,1],c='blue',s=50,label='tail_B') # you can play with the size of the marker (a)\n",
    "ax1.scatter(pc_hdgrp[:,0],pc_hdgrp[:,1],c='black',s=20,marker='*',label='headgroups') # and the style of the marker (marker)\n",
    "ax1.legend(loc='upper right') # add a legend, it will read the labels associated with each data set\n",
    "\n",
    "ax1.set_xlabel('x ($\\AA$)',fontsize=18) # label the axis\n",
    "ax1.set_ylabel('y ($\\AA$)',fontsize=18)\n",
    "ax1.set_xticks(np.arange(-100,100,20))\n",
    "ax1.set_yticks(np.arange(-100,100,20))\n",
    "\n",
    "ax2.plot(tail_A[:,0],tail_A[:,2],c='red',label='tail_A') \n",
    "ax2.plot(tail_B[:,0],tail_B[:,2],c='blue',label='tail_B')\n",
    "ax2.scatter(pc_hdgrp[:,0],pc_hdgrp[:,2],c='black',s=20,marker='*',label='headgroups') # and the style of the marker\n",
    "ax2.legend(loc='upper right') # add a legend, it will read the labels associated with each data set\n",
    "\n",
    "ax2.set_xlabel('x ($\\AA$)',fontsize=18) # label the axis\n",
    "ax2.set_ylabel('z ($\\AA$)',fontsize=18)\n",
    "ax2.set_xticks(np.arange(-100,100,20))\n",
    "ax2.set_yticks(np.arange(-100,100,20))\n",
    "\n",
    "ax1.set_aspect('equal') # make the plot square\n",
    "ax2.set_aspect('equal')\n",
    "\n",
    "plt.show() # shoe the plot\n",
    "#plt.savefig('xy_raw_lipid_positions_20200828.png',dpi=150) #save the figure, the more detail in the name the better"
   ]
  },
  {
   "cell_type": "code",
   "execution_count": null,
   "metadata": {},
   "outputs": [],
   "source": [
    "# (2) Now lets plot the projected points with the original positions\n",
    "\n",
    "\n",
    "plt.rcParams['figure.figsize'] = [20, 10]\n",
    "fig,(ax1,ax2) = plt.subplots(2) ax1.scatter(tail_A[:,0],tail_A[:,1],c='red',alpha=0.5,label='tail_A') \n",
    "ax1.scatter(tail_B[:,0],tail_B[:,1],c='blue',s=50,label='tail_B') \n",
    "ax1.scatter(pc_hdgrp[:,0],pc_hdgrp[:,1],c='black',s=20,marker='*',label='headgroups')\n",
    "ax1.scatter(p_pnts[:,0],p_pnts[:,1],c='skyblue',s=20,marker='o',label='projected') \n",
    "ax1.legend(loc='upper right')\n",
    "\n",
    "ax1.set_xlabel('x ($\\AA$)',fontsize=18) \n",
    "ax1.set_ylabel('y ($\\AA$)',fontsize=18)\n",
    "ax1.set_xticks(np.arange(-100,100,20))\n",
    "ax1.set_yticks(np.arange(-100,100,20))\n",
    "\n",
    "ax2.plot(tail_A[:,0],tail_A[:,2],c='#ec0101',label='tail_A') # colors can also be given as a htm hex string\n",
    "ax2.plot(tail_B[:,0],tail_B[:,2],c='blue',label='tail_B')\n",
    "ax2.scatter(pc_hdgrp[:,0],pc_hdgrp[:,2],c='black',s=20,marker='*',label='headgroups')\n",
    "ax2.scatter(p_pnts[:,0],p_pnts[:,2],c='skyblue',s=20,marker='o',label='projected')\n",
    "ax2.legend(loc='upper right') \n",
    "\n",
    "ax2.set_xlabel('x ($\\AA$)',fontsize=18)\n",
    "ax2.set_ylabel('z ($\\AA$)',fontsize=18)\n",
    "ax2.set_xticks(np.arange(-100,100,20))\n",
    "ax2.set_yticks(np.arange(-100,100,20))\n",
    "\n",
    "ax1.set_aspect('equal') \n",
    "ax2.set_aspect('equal')\n",
    "\n",
    "plt.show() #\n",
    "#plt.savefig('xy_raw_lipid_positions_20200828.png',dpi=150) #save the figure, the more detail the better"
   ]
  },
  {
   "cell_type": "code",
   "execution_count": null,
   "metadata": {},
   "outputs": [],
   "source": [
    "# (3) Hmm, that last figure is a little hard to interpret. Let's try preseting the \n",
    "#     data in a 3D space\n",
    "\n",
    "from mpl_toolkits.mplot3d import Axes3D\n",
    "\n",
    "fig = plt.figure(figsize=(10,10))\n",
    "ax = fig.add_subplot(projection='3d')\n",
    "\n",
    "ax.plot(tail_A[:,0],tail_A[:,1],tail_A[:,2],c='red',label='tail_A') \n",
    "ax.plot(tail_B[:,0],tail_B[:,1],tail_B[:,2],c='blue',label='tail_B')\n",
    "ax.scatter(pc_hdgrp[:,0],pc_hdgrp[:,1],pc_hdgrp[:,2],c='black',s=20,marker='*',label='headgroups') \n",
    "ax.scatter(p_pnts[:,0],p_pnts[:,1],p_pnts[:,2],c=p_pnts[:,2],cmap='Spectral',s=20,marker='o',label='projected') # I've also decided to color\n",
    "                                                                                                                # these points according to their\n",
    "                                                                                                                # z-value\n",
    "ax.legend(loc='upper right') # add a legend, it will read the labels associated with each data set\n",
    "\n",
    "ax.set_xlabel('x ($\\AA$)',fontsize=18) # label the axis\n",
    "ax.set_ylabel('y ($\\AA$)',fontsize=18)\n",
    "ax.set_zlabel('z ($\\AA$)',fontsize=18)\n",
    "\n",
    "ax.set_ylim3d(-100, 100)\n",
    "ax.set_xlim3d(-100,100)\n",
    "ax.set_zlim3d(-100,100)\n",
    "\n",
    "ax.view_init(0, -105) # control the rotation and tilt of the plot\n",
    "\n",
    "plt.show() # show the plot\n"
   ]
  }
 ],
 "metadata": {
  "kernelspec": {
   "display_name": "Python 3",
   "language": "python",
   "name": "python3"
  },
  "language_info": {
   "codemirror_mode": {
    "name": "ipython",
    "version": 3
   },
   "file_extension": ".py",
   "mimetype": "text/x-python",
   "name": "python",
   "nbconvert_exporter": "python",
   "pygments_lexer": "ipython3",
   "version": "3.6.9"
  }
 },
 "nbformat": 4,
 "nbformat_minor": 2
}
